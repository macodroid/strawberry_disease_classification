{
 "cells": [
  {
   "cell_type": "code",
   "execution_count": null,
   "outputs": [],
   "source": [],
   "metadata": {
    "collapsed": false,
    "pycharm": {
     "name": "#%%\n"
    }
   }
  },
  {
   "cell_type": "code",
   "execution_count": null,
   "outputs": [],
   "source": [
    "import torch\n",
    "from torch import nn\n",
    "from torchvision import transforms\n",
    "\n",
    "from model import ConvNet\n",
    "\n",
    "from custom_dataset_loader import StrawberryDataset\n",
    "from torch.utils.data import DataLoader\n",
    "\n",
    "# Setting the device for using the CUDA if is possible\n",
    "device = torch.device('cuda' if torch.cuda.is_available() else 'cpu')\n",
    "\n",
    "# Setting hyperparameters\n",
    "input_size = None\n",
    "number_of_classes = 7\n",
    "learning_rate = 0.001\n",
    "batch_size = 32\n",
    "num_epoch = 10\n",
    "\n",
    "# tensor([0.3778, 0.4980, 0.1993]) -> mean\n",
    "# tensor([0.1722, 0.1499, 0.1384]) -> std\n",
    "\n",
    "transform = transforms.Compose(\n",
    "    [transforms.ToTensor(),\n",
    "     transforms.Normalize([0.3778, 0.4980, 0.1993], [0.1722, 0.1499, 0.1384])])\n",
    "\n",
    "# Loading dateset (loading training, testing and validating sets)\n",
    "train_set = StrawberryDataset(csv_file='dataset/data_train.csv', image_dir='dataset/train',\n",
    "                              transform=transforms.ToTensor())\n",
    "test_set = StrawberryDataset(csv_file='dataset/data_test.csv', image_dir='dataset/test',\n",
    "                             transform=transform)\n",
    "val_set = StrawberryDataset(csv_file='dataset/data_val.csv', image_dir='dataset/val',\n",
    "                            transform=transform)\n",
    "\n",
    "train_loader = DataLoader(dataset=train_set, batch_size=batch_size, shuffle=True)\n",
    "test_loader = DataLoader(dataset=test_set, batch_size=batch_size, shuffle=True)\n",
    "\n",
    "model = ConvNet().to(device)\n",
    "\n",
    "criterion = nn.CrossEntropyLoss()\n",
    "optimizer = torch.optim.SGD(model.parameters(), lr=learning_rate)\n",
    "\n",
    "n_total_steps = len(train_loader)\n",
    "for epoch in range(num_epoch):\n",
    "    for i, (images, labels) in enumerate(train_loader):\n",
    "        images = images.to(device)\n",
    "        labels = labels.to(device)\n",
    "\n",
    "        output = model(images)\n",
    "        loss = criterion(output, labels)\n",
    "\n",
    "        optimizer.zero_grad()\n",
    "        loss.backward()\n",
    "        optimizer.step()\n",
    "\n",
    "        print(f'Epoch [{epoch + 1}/{num_epoch}], Step [{i + 1}/{n_total_steps}], Loss: {loss.item():.4f}')\n"
   ],
   "metadata": {
    "collapsed": false,
    "pycharm": {
     "name": "#%%\n"
    }
   }
  }
 ],
 "metadata": {
  "kernelspec": {
   "display_name": "Python 3",
   "language": "python",
   "name": "python3"
  },
  "language_info": {
   "codemirror_mode": {
    "name": "ipython",
    "version": 2
   },
   "file_extension": ".py",
   "mimetype": "text/x-python",
   "name": "python",
   "nbconvert_exporter": "python",
   "pygments_lexer": "ipython2",
   "version": "2.7.6"
  }
 },
 "nbformat": 4,
 "nbformat_minor": 0
}